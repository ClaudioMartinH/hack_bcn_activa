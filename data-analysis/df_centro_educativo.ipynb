{
 "cells": [
  {
   "cell_type": "code",
   "execution_count": 1,
   "metadata": {},
   "outputs": [],
   "source": [
    "import pandas as pd \n",
    "import numpy as np"
   ]
  },
  {
   "cell_type": "code",
   "execution_count": 5,
   "metadata": {},
   "outputs": [],
   "source": [
    "centro_educativo = pd.read_excel('./data/otros/Centro_Educativos.xlsx')"
   ]
  },
  {
   "cell_type": "code",
   "execution_count": 6,
   "metadata": {},
   "outputs": [],
   "source": [
    "df = centro_educativo.groupby(['district_id','Type']).count()"
   ]
  },
  {
   "cell_type": "code",
   "execution_count": 7,
   "metadata": {},
   "outputs": [],
   "source": [
    "df.reset_index(inplace=True)"
   ]
  },
  {
   "cell_type": "code",
   "execution_count": 8,
   "metadata": {},
   "outputs": [],
   "source": [
    "centro_educativo ={\n",
    "    1:{\n",
    "        \"No_reglada\": 27,\n",
    "        \"Reglada\":107\n",
    "    },\n",
    "    2:{\n",
    "        \"No_reglada\": 62,\n",
    "        \"Reglada\":211\n",
    "    },\n",
    "    3:{\n",
    "        \"No_reglada\": 21,\n",
    "        \"Reglada\":111\n",
    "    },\n",
    "    4:{\n",
    "        \"No_reglada\": 19,\n",
    "        \"Reglada\":165\n",
    "    },\n",
    "    5:{\n",
    "        \"No_reglada\": 23,\n",
    "        \"Reglada\":185\n",
    "    },\n",
    "    6:{\n",
    "        \"No_reglada\": 13,\n",
    "        \"Reglada\":86\n",
    "    },\n",
    "    7:{\n",
    "        \"No_reglada\": 7,\n",
    "        \"Reglada\":139\n",
    "    },\n",
    "    8:{\n",
    "        \"No_reglada\": 16,\n",
    "        \"Reglada\":118\n",
    "    },\n",
    "    9:{\n",
    "        \"No_reglada\": 18,\n",
    "        \"Reglada\":99\n",
    "    },\n",
    "    10:{\n",
    "        \"No_reglada\": 34,\n",
    "        \"Reglada\":173\n",
    "    }\n",
    "}"
   ]
  },
  {
   "cell_type": "code",
   "execution_count": 9,
   "metadata": {},
   "outputs": [],
   "source": [
    "import json\n",
    "\n",
    "with open('centro_educativo.json', 'w') as archivo_json:\n",
    "    json.dump(centro_educativo, archivo_json, indent=4, ensure_ascii=False)"
   ]
  }
 ],
 "metadata": {
  "kernelspec": {
   "display_name": "env",
   "language": "python",
   "name": "python3"
  },
  "language_info": {
   "codemirror_mode": {
    "name": "ipython",
    "version": 3
   },
   "file_extension": ".py",
   "mimetype": "text/x-python",
   "name": "python",
   "nbconvert_exporter": "python",
   "pygments_lexer": "ipython3",
   "version": "3.12.7"
  }
 },
 "nbformat": 4,
 "nbformat_minor": 2
}
