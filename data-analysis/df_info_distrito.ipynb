{
 "cells": [
  {
   "cell_type": "code",
   "execution_count": 2,
   "metadata": {},
   "outputs": [],
   "source": [
    "import pandas as pd\n",
    "import numpy as n"
   ]
  },
  {
   "cell_type": "code",
   "execution_count": 4,
   "metadata": {},
   "outputs": [],
   "source": [
    "info_district = pd.read_csv('./data/otros/info_distrito.csv')"
   ]
  },
  {
   "cell_type": "code",
   "execution_count": 5,
   "metadata": {},
   "outputs": [
    {
     "data": {
      "text/plain": [
       "Codi_Districte                      0\n",
       "Con acceso a internet               0\n",
       "Sin acceso a internet               0\n",
       "Total encuestados                   0\n",
       "% Personas sin acceso a internet    0\n",
       "dtype: int64"
      ]
     },
     "execution_count": 5,
     "metadata": {},
     "output_type": "execute_result"
    }
   ],
   "source": [
    "info_district.isnull().sum()"
   ]
  },
  {
   "cell_type": "code",
   "execution_count": 6,
   "metadata": {},
   "outputs": [
    {
     "data": {
      "text/html": [
       "<div>\n",
       "<style scoped>\n",
       "    .dataframe tbody tr th:only-of-type {\n",
       "        vertical-align: middle;\n",
       "    }\n",
       "\n",
       "    .dataframe tbody tr th {\n",
       "        vertical-align: top;\n",
       "    }\n",
       "\n",
       "    .dataframe thead th {\n",
       "        text-align: right;\n",
       "    }\n",
       "</style>\n",
       "<table border=\"1\" class=\"dataframe\">\n",
       "  <thead>\n",
       "    <tr style=\"text-align: right;\">\n",
       "      <th></th>\n",
       "      <th>Codi_Districte</th>\n",
       "      <th>Con acceso a internet</th>\n",
       "      <th>Sin acceso a internet</th>\n",
       "      <th>Total encuestados</th>\n",
       "      <th>% Personas sin acceso a internet</th>\n",
       "    </tr>\n",
       "  </thead>\n",
       "  <tbody>\n",
       "    <tr>\n",
       "      <th>0</th>\n",
       "      <td>1</td>\n",
       "      <td>125</td>\n",
       "      <td>8</td>\n",
       "      <td>133</td>\n",
       "      <td>6 %</td>\n",
       "    </tr>\n",
       "    <tr>\n",
       "      <th>1</th>\n",
       "      <td>2</td>\n",
       "      <td>404</td>\n",
       "      <td>40</td>\n",
       "      <td>445</td>\n",
       "      <td>9 %</td>\n",
       "    </tr>\n",
       "    <tr>\n",
       "      <th>2</th>\n",
       "      <td>3</td>\n",
       "      <td>136</td>\n",
       "      <td>11</td>\n",
       "      <td>147</td>\n",
       "      <td>7 %</td>\n",
       "    </tr>\n",
       "    <tr>\n",
       "      <th>3</th>\n",
       "      <td>4</td>\n",
       "      <td>184</td>\n",
       "      <td>7</td>\n",
       "      <td>191</td>\n",
       "      <td>4 %</td>\n",
       "    </tr>\n",
       "    <tr>\n",
       "      <th>4</th>\n",
       "      <td>5</td>\n",
       "      <td>321</td>\n",
       "      <td>9</td>\n",
       "      <td>330</td>\n",
       "      <td>3 %</td>\n",
       "    </tr>\n",
       "  </tbody>\n",
       "</table>\n",
       "</div>"
      ],
      "text/plain": [
       "   Codi_Districte  Con acceso a internet  Sin acceso a internet  \\\n",
       "0               1                    125                      8   \n",
       "1               2                    404                     40   \n",
       "2               3                    136                     11   \n",
       "3               4                    184                      7   \n",
       "4               5                    321                      9   \n",
       "\n",
       "   Total encuestados % Personas sin acceso a internet  \n",
       "0                133                              6 %  \n",
       "1                445                              9 %  \n",
       "2                147                              7 %  \n",
       "3                191                              4 %  \n",
       "4                330                              3 %  "
      ]
     },
     "execution_count": 6,
     "metadata": {},
     "output_type": "execute_result"
    }
   ],
   "source": [
    "info_district.head()"
   ]
  },
  {
   "cell_type": "code",
   "execution_count": 7,
   "metadata": {},
   "outputs": [],
   "source": [
    "info_district.to_json('info-district.json', orient='records', lines=True)"
   ]
  }
 ],
 "metadata": {
  "kernelspec": {
   "display_name": "env",
   "language": "python",
   "name": "python3"
  },
  "language_info": {
   "codemirror_mode": {
    "name": "ipython",
    "version": 3
   },
   "file_extension": ".py",
   "mimetype": "text/x-python",
   "name": "python",
   "nbconvert_exporter": "python",
   "pygments_lexer": "ipython3",
   "version": "3.12.7"
  }
 },
 "nbformat": 4,
 "nbformat_minor": 2
}
