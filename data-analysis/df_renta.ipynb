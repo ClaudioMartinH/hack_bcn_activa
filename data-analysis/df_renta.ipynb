{
 "cells": [
  {
   "cell_type": "code",
   "execution_count": 7,
   "metadata": {},
   "outputs": [],
   "source": [
    "#import libraries\n",
    "import pandas as pd \n",
    "import numpy as np"
   ]
  },
  {
   "cell_type": "markdown",
   "metadata": {},
   "source": [
    "## Import rent dataset"
   ]
  },
  {
   "cell_type": "code",
   "execution_count": 9,
   "metadata": {},
   "outputs": [],
   "source": [
    "df_renta_2015 = pd.read_csv('./data/renta/2015_atles_renda_bruta_llar.csv')\n",
    "df_renta_2016 = pd.read_csv('./data/renta/2016_atles_renda_bruta_llar.csv')\n",
    "df_renta_2017 = pd.read_csv('./data/renta/2017_atles_renda_bruta_llar.csv')\n",
    "df_renta_2018 = pd.read_csv('./data/renta/2018_atles_renda_bruta_llar.csv')\n",
    "df_renta_2019 = pd.read_csv('./data/renta/2019_atles_renda_bruta_llar.csv')\n",
    "df_renta_2020 = pd.read_csv('./data/renta/2020_atles_renda_bruta_llar.csv')\n",
    "df_renta_2021 = pd.read_csv('./data/renta/2021_atles_renda_bruta_llar.csv')"
   ]
  },
  {
   "cell_type": "code",
   "execution_count": 10,
   "metadata": {},
   "outputs": [
    {
     "name": "stdout",
     "output_type": "stream",
     "text": [
      "<class 'pandas.core.frame.DataFrame'>\n",
      "RangeIndex: 1068 entries, 0 to 1067\n",
      "Data columns (total 7 columns):\n",
      " #   Column                                Non-Null Count  Dtype \n",
      "---  ------                                --------------  ----- \n",
      " 0   Any                                   1068 non-null   int64 \n",
      " 1   Codi_Districte                        1068 non-null   int64 \n",
      " 2   Nom_Districte                         1068 non-null   object\n",
      " 3   Codi_Barri                            1068 non-null   int64 \n",
      " 4   Nom_Barri                             1068 non-null   object\n",
      " 5   Seccio_Censal                         1068 non-null   int64 \n",
      " 6   Import_Renda_Bruta_€                  1068 non-null   int64 \n",
      "dtypes: int64(5), object(2)\n",
      "memory usage: 58.5+ KB\n"
     ]
    }
   ],
   "source": [
    "df_renta_2015.info()"
   ]
  },
  {
   "cell_type": "code",
   "execution_count": 11,
   "metadata": {},
   "outputs": [
    {
     "name": "stdout",
     "output_type": "stream",
     "text": [
      "<class 'pandas.core.frame.DataFrame'>\n",
      "RangeIndex: 1068 entries, 0 to 1067\n",
      "Data columns (total 7 columns):\n",
      " #   Column                                Non-Null Count  Dtype \n",
      "---  ------                                --------------  ----- \n",
      " 0   Any                                   1068 non-null   int64 \n",
      " 1   Codi_Districte                        1068 non-null   int64 \n",
      " 2   Nom_Districte                         1068 non-null   object\n",
      " 3   Codi_Barri                            1068 non-null   int64 \n",
      " 4   Nom_Barri                             1068 non-null   object\n",
      " 5   Seccio_Censal                         1068 non-null   int64 \n",
      " 6   Import_Renda_Bruta_€                  1068 non-null   int64 \n",
      "dtypes: int64(5), object(2)\n",
      "memory usage: 58.5+ KB\n"
     ]
    }
   ],
   "source": [
    "df_renta_2016.info()"
   ]
  },
  {
   "cell_type": "code",
   "execution_count": 12,
   "metadata": {},
   "outputs": [
    {
     "name": "stdout",
     "output_type": "stream",
     "text": [
      "<class 'pandas.core.frame.DataFrame'>\n",
      "RangeIndex: 1068 entries, 0 to 1067\n",
      "Data columns (total 7 columns):\n",
      " #   Column                                Non-Null Count  Dtype \n",
      "---  ------                                --------------  ----- \n",
      " 0   Any                                   1068 non-null   int64 \n",
      " 1   Codi_Districte                        1068 non-null   int64 \n",
      " 2   Nom_Districte                         1068 non-null   object\n",
      " 3   Codi_Barri                            1068 non-null   int64 \n",
      " 4   Nom_Barri                             1068 non-null   object\n",
      " 5   Seccio_Censal                         1068 non-null   int64 \n",
      " 6   Import_Renda_Bruta_€                  1068 non-null   int64 \n",
      "dtypes: int64(5), object(2)\n",
      "memory usage: 58.5+ KB\n"
     ]
    }
   ],
   "source": [
    "df_renta_2017.info()"
   ]
  },
  {
   "cell_type": "code",
   "execution_count": 13,
   "metadata": {},
   "outputs": [
    {
     "name": "stdout",
     "output_type": "stream",
     "text": [
      "<class 'pandas.core.frame.DataFrame'>\n",
      "RangeIndex: 1068 entries, 0 to 1067\n",
      "Data columns (total 7 columns):\n",
      " #   Column                                Non-Null Count  Dtype \n",
      "---  ------                                --------------  ----- \n",
      " 0   Any                                   1068 non-null   int64 \n",
      " 1   Codi_Districte                        1068 non-null   int64 \n",
      " 2   Nom_Districte                         1068 non-null   object\n",
      " 3   Codi_Barri                            1068 non-null   int64 \n",
      " 4   Nom_Barri                             1068 non-null   object\n",
      " 5   Seccio_Censal                         1068 non-null   int64 \n",
      " 6   Import_Renda_Bruta_€                  1068 non-null   int64 \n",
      "dtypes: int64(5), object(2)\n",
      "memory usage: 58.5+ KB\n"
     ]
    }
   ],
   "source": [
    "df_renta_2018.info()"
   ]
  },
  {
   "cell_type": "code",
   "execution_count": 14,
   "metadata": {},
   "outputs": [
    {
     "name": "stdout",
     "output_type": "stream",
     "text": [
      "<class 'pandas.core.frame.DataFrame'>\n",
      "RangeIndex: 1068 entries, 0 to 1067\n",
      "Data columns (total 7 columns):\n",
      " #   Column                                Non-Null Count  Dtype \n",
      "---  ------                                --------------  ----- \n",
      " 0   Any                                   1068 non-null   int64 \n",
      " 1   Codi_Districte                        1068 non-null   int64 \n",
      " 2   Nom_Districte                         1068 non-null   object\n",
      " 3   Codi_Barri                            1068 non-null   int64 \n",
      " 4   Nom_Barri                             1068 non-null   object\n",
      " 5   Seccio_Censal                         1068 non-null   int64 \n",
      " 6   Import_Renda_Bruta_€                  1068 non-null   int64 \n",
      "dtypes: int64(5), object(2)\n",
      "memory usage: 58.5+ KB\n"
     ]
    }
   ],
   "source": [
    "df_renta_2019.info()"
   ]
  },
  {
   "cell_type": "code",
   "execution_count": 15,
   "metadata": {},
   "outputs": [
    {
     "name": "stdout",
     "output_type": "stream",
     "text": [
      "<class 'pandas.core.frame.DataFrame'>\n",
      "RangeIndex: 1068 entries, 0 to 1067\n",
      "Data columns (total 7 columns):\n",
      " #   Column                Non-Null Count  Dtype \n",
      "---  ------                --------------  ----- \n",
      " 0   Any                   1068 non-null   int64 \n",
      " 1   Codi_Districte        1068 non-null   int64 \n",
      " 2   Nom_Districte         1068 non-null   object\n",
      " 3   Codi_Barri            1068 non-null   int64 \n",
      " 4   Nom_Barri             1068 non-null   object\n",
      " 5   Seccio_Censal         1068 non-null   int64 \n",
      " 6   Import_Renda_Bruta_€  1068 non-null   int64 \n",
      "dtypes: int64(5), object(2)\n",
      "memory usage: 58.5+ KB\n"
     ]
    }
   ],
   "source": [
    "df_renta_2020.info()"
   ]
  },
  {
   "cell_type": "code",
   "execution_count": 16,
   "metadata": {},
   "outputs": [
    {
     "name": "stdout",
     "output_type": "stream",
     "text": [
      "<class 'pandas.core.frame.DataFrame'>\n",
      "RangeIndex: 1068 entries, 0 to 1067\n",
      "Data columns (total 7 columns):\n",
      " #   Column                Non-Null Count  Dtype \n",
      "---  ------                --------------  ----- \n",
      " 0   Any                   1068 non-null   int64 \n",
      " 1   Codi_Districte        1068 non-null   int64 \n",
      " 2   Nom_Districte         1068 non-null   object\n",
      " 3   Codi_Barri            1068 non-null   int64 \n",
      " 4   Nom_Barri             1068 non-null   object\n",
      " 5   Seccio_Censal         1068 non-null   int64 \n",
      " 6   Import_Renda_Bruta_€  1068 non-null   int64 \n",
      "dtypes: int64(5), object(2)\n",
      "memory usage: 58.5+ KB\n"
     ]
    }
   ],
   "source": [
    "df_renta_2021.info()"
   ]
  },
  {
   "cell_type": "markdown",
   "metadata": {},
   "source": [
    "### 2015,216,2017,2018,2019 Tienen errores en la columna __Import_Renda_Bruta_€__ haciendo difícil su concantenación"
   ]
  },
  {
   "cell_type": "code",
   "execution_count": 17,
   "metadata": {},
   "outputs": [],
   "source": [
    "df_renta_2015.rename(columns={\"Import_Renda_Bruta_€                \": \"Import_Renda_Bruta_€\"}, inplace=True)\n",
    "df_renta_2016.rename(columns={\"Import_Renda_Bruta_€                \": \"Import_Renda_Bruta_€\"}, inplace=True)\n",
    "df_renta_2017.rename(columns={\"Import_Renda_Bruta_€                \": \"Import_Renda_Bruta_€\"}, inplace=True)\n",
    "df_renta_2018.rename(columns={\"Import_Renda_Bruta_€                \": \"Import_Renda_Bruta_€\"}, inplace=True)\n",
    "df_renta_2019.rename(columns={\"Import_Renda_Bruta_€                \": \"Import_Renda_Bruta_€\"}, inplace=True)"
   ]
  },
  {
   "cell_type": "code",
   "execution_count": 18,
   "metadata": {},
   "outputs": [
    {
     "data": {
      "text/html": [
       "<div>\n",
       "<style scoped>\n",
       "    .dataframe tbody tr th:only-of-type {\n",
       "        vertical-align: middle;\n",
       "    }\n",
       "\n",
       "    .dataframe tbody tr th {\n",
       "        vertical-align: top;\n",
       "    }\n",
       "\n",
       "    .dataframe thead th {\n",
       "        text-align: right;\n",
       "    }\n",
       "</style>\n",
       "<table border=\"1\" class=\"dataframe\">\n",
       "  <thead>\n",
       "    <tr style=\"text-align: right;\">\n",
       "      <th></th>\n",
       "      <th>Any</th>\n",
       "      <th>Codi_Districte</th>\n",
       "      <th>Nom_Districte</th>\n",
       "      <th>Codi_Barri</th>\n",
       "      <th>Nom_Barri</th>\n",
       "      <th>Seccio_Censal</th>\n",
       "      <th>Import_Renda_Bruta_€</th>\n",
       "    </tr>\n",
       "  </thead>\n",
       "  <tbody>\n",
       "    <tr>\n",
       "      <th>0</th>\n",
       "      <td>2015</td>\n",
       "      <td>1</td>\n",
       "      <td>Ciutat Vella</td>\n",
       "      <td>1</td>\n",
       "      <td>el Raval</td>\n",
       "      <td>1</td>\n",
       "      <td>28573</td>\n",
       "    </tr>\n",
       "    <tr>\n",
       "      <th>1</th>\n",
       "      <td>2015</td>\n",
       "      <td>1</td>\n",
       "      <td>Ciutat Vella</td>\n",
       "      <td>1</td>\n",
       "      <td>el Raval</td>\n",
       "      <td>2</td>\n",
       "      <td>23673</td>\n",
       "    </tr>\n",
       "    <tr>\n",
       "      <th>2</th>\n",
       "      <td>2015</td>\n",
       "      <td>1</td>\n",
       "      <td>Ciutat Vella</td>\n",
       "      <td>1</td>\n",
       "      <td>el Raval</td>\n",
       "      <td>3</td>\n",
       "      <td>24997</td>\n",
       "    </tr>\n",
       "    <tr>\n",
       "      <th>3</th>\n",
       "      <td>2015</td>\n",
       "      <td>1</td>\n",
       "      <td>Ciutat Vella</td>\n",
       "      <td>1</td>\n",
       "      <td>el Raval</td>\n",
       "      <td>4</td>\n",
       "      <td>29768</td>\n",
       "    </tr>\n",
       "    <tr>\n",
       "      <th>4</th>\n",
       "      <td>2015</td>\n",
       "      <td>1</td>\n",
       "      <td>Ciutat Vella</td>\n",
       "      <td>1</td>\n",
       "      <td>el Raval</td>\n",
       "      <td>5</td>\n",
       "      <td>23645</td>\n",
       "    </tr>\n",
       "    <tr>\n",
       "      <th>...</th>\n",
       "      <td>...</td>\n",
       "      <td>...</td>\n",
       "      <td>...</td>\n",
       "      <td>...</td>\n",
       "      <td>...</td>\n",
       "      <td>...</td>\n",
       "      <td>...</td>\n",
       "    </tr>\n",
       "    <tr>\n",
       "      <th>7471</th>\n",
       "      <td>2021</td>\n",
       "      <td>10</td>\n",
       "      <td>Sant Martí</td>\n",
       "      <td>73</td>\n",
       "      <td>la Verneda i la Pau</td>\n",
       "      <td>143</td>\n",
       "      <td>40933</td>\n",
       "    </tr>\n",
       "    <tr>\n",
       "      <th>7472</th>\n",
       "      <td>2021</td>\n",
       "      <td>10</td>\n",
       "      <td>Sant Martí</td>\n",
       "      <td>65</td>\n",
       "      <td>el Clot</td>\n",
       "      <td>234</td>\n",
       "      <td>47058</td>\n",
       "    </tr>\n",
       "    <tr>\n",
       "      <th>7473</th>\n",
       "      <td>2021</td>\n",
       "      <td>10</td>\n",
       "      <td>Sant Martí</td>\n",
       "      <td>69</td>\n",
       "      <td>Diagonal Mar i el Front Marítim del Poblenou</td>\n",
       "      <td>235</td>\n",
       "      <td>35643</td>\n",
       "    </tr>\n",
       "    <tr>\n",
       "      <th>7474</th>\n",
       "      <td>2021</td>\n",
       "      <td>10</td>\n",
       "      <td>Sant Martí</td>\n",
       "      <td>69</td>\n",
       "      <td>Diagonal Mar i el Front Marítim del Poblenou</td>\n",
       "      <td>236</td>\n",
       "      <td>39514</td>\n",
       "    </tr>\n",
       "    <tr>\n",
       "      <th>7475</th>\n",
       "      <td>2021</td>\n",
       "      <td>10</td>\n",
       "      <td>Sant Martí</td>\n",
       "      <td>71</td>\n",
       "      <td>Provençals del Poblenou</td>\n",
       "      <td>237</td>\n",
       "      <td>35946</td>\n",
       "    </tr>\n",
       "  </tbody>\n",
       "</table>\n",
       "<p>7476 rows × 7 columns</p>\n",
       "</div>"
      ],
      "text/plain": [
       "       Any  Codi_Districte Nom_Districte  Codi_Barri  \\\n",
       "0     2015               1  Ciutat Vella           1   \n",
       "1     2015               1  Ciutat Vella           1   \n",
       "2     2015               1  Ciutat Vella           1   \n",
       "3     2015               1  Ciutat Vella           1   \n",
       "4     2015               1  Ciutat Vella           1   \n",
       "...    ...             ...           ...         ...   \n",
       "7471  2021              10    Sant Martí          73   \n",
       "7472  2021              10    Sant Martí          65   \n",
       "7473  2021              10    Sant Martí          69   \n",
       "7474  2021              10    Sant Martí          69   \n",
       "7475  2021              10    Sant Martí          71   \n",
       "\n",
       "                                         Nom_Barri  Seccio_Censal  \\\n",
       "0                                         el Raval              1   \n",
       "1                                         el Raval              2   \n",
       "2                                         el Raval              3   \n",
       "3                                         el Raval              4   \n",
       "4                                         el Raval              5   \n",
       "...                                            ...            ...   \n",
       "7471                           la Verneda i la Pau            143   \n",
       "7472                                       el Clot            234   \n",
       "7473  Diagonal Mar i el Front Marítim del Poblenou            235   \n",
       "7474  Diagonal Mar i el Front Marítim del Poblenou            236   \n",
       "7475                       Provençals del Poblenou            237   \n",
       "\n",
       "      Import_Renda_Bruta_€  \n",
       "0                    28573  \n",
       "1                    23673  \n",
       "2                    24997  \n",
       "3                    29768  \n",
       "4                    23645  \n",
       "...                    ...  \n",
       "7471                 40933  \n",
       "7472                 47058  \n",
       "7473                 35643  \n",
       "7474                 39514  \n",
       "7475                 35946  \n",
       "\n",
       "[7476 rows x 7 columns]"
      ]
     },
     "execution_count": 18,
     "metadata": {},
     "output_type": "execute_result"
    }
   ],
   "source": [
    "df_renta = pd.concat([ df_renta_2015,df_renta_2016, df_renta_2017,df_renta_2018,df_renta_2019,df_renta_2020, df_renta_2021 ], axis=0, ignore_index=True)\n",
    "df_renta"
   ]
  },
  {
   "cell_type": "markdown",
   "metadata": {},
   "source": [
    "### comprobación de nulos"
   ]
  },
  {
   "cell_type": "code",
   "execution_count": 20,
   "metadata": {},
   "outputs": [
    {
     "data": {
      "text/plain": [
       "Any                     0\n",
       "Codi_Districte          0\n",
       "Nom_Districte           0\n",
       "Codi_Barri              0\n",
       "Nom_Barri               0\n",
       "Seccio_Censal           0\n",
       "Import_Renda_Bruta_€    0\n",
       "dtype: int64"
      ]
     },
     "execution_count": 20,
     "metadata": {},
     "output_type": "execute_result"
    }
   ],
   "source": [
    "df_renta.isnull().sum()"
   ]
  },
  {
   "cell_type": "code",
   "execution_count": 21,
   "metadata": {},
   "outputs": [],
   "source": [
    "#columna intranscendente\n",
    "df_renta.drop(columns=['Seccio_Censal'], axis=1, inplace=True)"
   ]
  },
  {
   "cell_type": "code",
   "execution_count": 22,
   "metadata": {},
   "outputs": [
    {
     "data": {
      "text/html": [
       "<div>\n",
       "<style scoped>\n",
       "    .dataframe tbody tr th:only-of-type {\n",
       "        vertical-align: middle;\n",
       "    }\n",
       "\n",
       "    .dataframe tbody tr th {\n",
       "        vertical-align: top;\n",
       "    }\n",
       "\n",
       "    .dataframe thead th {\n",
       "        text-align: right;\n",
       "    }\n",
       "</style>\n",
       "<table border=\"1\" class=\"dataframe\">\n",
       "  <thead>\n",
       "    <tr style=\"text-align: right;\">\n",
       "      <th></th>\n",
       "      <th>Any</th>\n",
       "      <th>Codi_Districte</th>\n",
       "      <th>Nom_Districte</th>\n",
       "      <th>Codi_Barri</th>\n",
       "      <th>Nom_Barri</th>\n",
       "      <th>Import_Renda_Bruta_€</th>\n",
       "    </tr>\n",
       "  </thead>\n",
       "  <tbody>\n",
       "    <tr>\n",
       "      <th>0</th>\n",
       "      <td>2015</td>\n",
       "      <td>1</td>\n",
       "      <td>Ciutat Vella</td>\n",
       "      <td>1</td>\n",
       "      <td>el Raval</td>\n",
       "      <td>28573</td>\n",
       "    </tr>\n",
       "  </tbody>\n",
       "</table>\n",
       "</div>"
      ],
      "text/plain": [
       "    Any  Codi_Districte Nom_Districte  Codi_Barri Nom_Barri  \\\n",
       "0  2015               1  Ciutat Vella           1  el Raval   \n",
       "\n",
       "   Import_Renda_Bruta_€  \n",
       "0                 28573  "
      ]
     },
     "execution_count": 22,
     "metadata": {},
     "output_type": "execute_result"
    }
   ],
   "source": [
    "df_renta.head(1)"
   ]
  },
  {
   "cell_type": "code",
   "execution_count": 30,
   "metadata": {},
   "outputs": [],
   "source": [
    "df = df_renta.groupby(['Any','Codi_Districte']).agg(\n",
    "    Renda_bruta_llar = ('Import_Renda_Bruta_€', 'mean'),\n",
    "    any = (\"Any\", 'mean')\n",
    ")\n",
    "df.reset_index(inplace=True)"
   ]
  },
  {
   "cell_type": "code",
   "execution_count": 31,
   "metadata": {},
   "outputs": [
    {
     "data": {
      "text/plain": [
       "Index(['Any', 'Codi_Districte', 'Renda_bruta_llar', 'any'], dtype='object')"
      ]
     },
     "execution_count": 31,
     "metadata": {},
     "output_type": "execute_result"
    }
   ],
   "source": [
    "df.columns"
   ]
  },
  {
   "cell_type": "code",
   "execution_count": 32,
   "metadata": {},
   "outputs": [],
   "source": [
    "df.drop(columns=['Any'], axis=1, inplace=True)"
   ]
  },
  {
   "cell_type": "code",
   "execution_count": 34,
   "metadata": {},
   "outputs": [],
   "source": [
    "df.to_json('renta_for_llar.json', orient='records', lines=True)"
   ]
  }
 ],
 "metadata": {
  "kernelspec": {
   "display_name": "Python 3",
   "language": "python",
   "name": "python3"
  },
  "language_info": {
   "codemirror_mode": {
    "name": "ipython",
    "version": 3
   },
   "file_extension": ".py",
   "mimetype": "text/x-python",
   "name": "python",
   "nbconvert_exporter": "python",
   "pygments_lexer": "ipython3",
   "version": "3.12.7"
  }
 },
 "nbformat": 4,
 "nbformat_minor": 2
}
